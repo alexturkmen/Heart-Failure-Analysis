{
 "cells": [
  {
   "cell_type": "code",
   "execution_count": null,
   "metadata": {},
   "outputs": [],
   "source": [
    "from pathlib import Path\n",
    "import pandas as pd\n",
    "import seaborn as sns\n",
    "import matplotlib.pyplot as plt"
   ]
  },
  {
   "cell_type": "markdown",
   "metadata": {},
   "source": [
    "### Heatmap Code from Spotipy Project"
   ]
  },
  {
   "cell_type": "code",
   "execution_count": null,
   "metadata": {},
   "outputs": [],
   "source": [
    "# correlationMap = clean_Spoti[['Position', 'Track Name', 'Artist', 'Streams', 'Date', 'Bins', 'TrackID',\n",
    "#        'Album', 'Release Date', 'Length', 'Popularity', 'Danceability',\n",
    "#        'Acousticness', 'Energy', 'Instrumentalness', 'Liveness', 'Loudness',\n",
    "#        'Speechiness', 'Tempo']].corr()\n",
    "# fig, ax = plt.subplots(figsize = (8,5))\n",
    "# plt.title(\"Correlation Map Gauging Spotipy Header Comparisons\")\n",
    "# sns.heatmap(correlationMap, cmap=\"Greens\")\n",
    "# plt.savefig(\"Correlation HeatMap\")"
   ]
  }
 ],
 "metadata": {
  "kernelspec": {
   "display_name": "Python 3",
   "language": "python",
   "name": "python3"
  },
  "language_info": {
   "codemirror_mode": {
    "name": "ipython",
    "version": 3
   },
   "file_extension": ".py",
   "mimetype": "text/x-python",
   "name": "python",
   "nbconvert_exporter": "python",
   "pygments_lexer": "ipython3",
   "version": "3.8.3"
  }
 },
 "nbformat": 4,
 "nbformat_minor": 4
}
