{
 "cells": [
  {
   "cell_type": "code",
   "execution_count": 1,
   "metadata": {},
   "outputs": [],
   "source": [
    "from sklearn import tree\n",
    "from sklearn.model_selection import train_test_split\n",
    "from sklearn.ensemble import RandomForestClassifier\n",
    "from sklearn.metrics import classification_report\n",
    "import matplotlib.pyplot as plt\n",
    "import io\n",
    "import requests\n",
    "import pandas as pd\n",
    "from pathlib import Path"
   ]
  },
  {
   "cell_type": "code",
   "execution_count": 2,
   "metadata": {},
   "outputs": [],
   "source": [
    "### This is the local file path, but we decided to use an S3 bucket instead\n",
    "# readpath = Path.cwd() / 'Data' / 'heart_failure_clinical_records_dataset.csv'\n",
    "url=\"https://final-project-heart.s3.amazonaws.com/heart_failure_clinical_records_dataset.csv\"\n",
    "s=requests.get(url).content\n",
    "df = pd.read_csv(io.StringIO(s.decode('utf-8')))"
   ]
  },
  {
   "cell_type": "code",
   "execution_count": 3,
   "metadata": {},
   "outputs": [
    {
     "data": {
      "text/html": [
       "<div>\n",
       "<style scoped>\n",
       "    .dataframe tbody tr th:only-of-type {\n",
       "        vertical-align: middle;\n",
       "    }\n",
       "\n",
       "    .dataframe tbody tr th {\n",
       "        vertical-align: top;\n",
       "    }\n",
       "\n",
       "    .dataframe thead th {\n",
       "        text-align: right;\n",
       "    }\n",
       "</style>\n",
       "<table border=\"1\" class=\"dataframe\">\n",
       "  <thead>\n",
       "    <tr style=\"text-align: right;\">\n",
       "      <th></th>\n",
       "      <th>age</th>\n",
       "      <th>anaemia</th>\n",
       "      <th>creatinine_phosphokinase</th>\n",
       "      <th>diabetes</th>\n",
       "      <th>ejection_fraction</th>\n",
       "      <th>high_blood_pressure</th>\n",
       "      <th>platelets</th>\n",
       "      <th>serum_creatinine</th>\n",
       "      <th>serum_sodium</th>\n",
       "      <th>sex</th>\n",
       "      <th>smoking</th>\n",
       "      <th>time</th>\n",
       "      <th>DEATH_EVENT</th>\n",
       "    </tr>\n",
       "  </thead>\n",
       "  <tbody>\n",
       "    <tr>\n",
       "      <th>0</th>\n",
       "      <td>75.0</td>\n",
       "      <td>0</td>\n",
       "      <td>582</td>\n",
       "      <td>0</td>\n",
       "      <td>20</td>\n",
       "      <td>1</td>\n",
       "      <td>265000.00</td>\n",
       "      <td>1.9</td>\n",
       "      <td>130</td>\n",
       "      <td>1</td>\n",
       "      <td>0</td>\n",
       "      <td>4</td>\n",
       "      <td>1</td>\n",
       "    </tr>\n",
       "    <tr>\n",
       "      <th>1</th>\n",
       "      <td>55.0</td>\n",
       "      <td>0</td>\n",
       "      <td>7861</td>\n",
       "      <td>0</td>\n",
       "      <td>38</td>\n",
       "      <td>0</td>\n",
       "      <td>263358.03</td>\n",
       "      <td>1.1</td>\n",
       "      <td>136</td>\n",
       "      <td>1</td>\n",
       "      <td>0</td>\n",
       "      <td>6</td>\n",
       "      <td>1</td>\n",
       "    </tr>\n",
       "    <tr>\n",
       "      <th>2</th>\n",
       "      <td>65.0</td>\n",
       "      <td>0</td>\n",
       "      <td>146</td>\n",
       "      <td>0</td>\n",
       "      <td>20</td>\n",
       "      <td>0</td>\n",
       "      <td>162000.00</td>\n",
       "      <td>1.3</td>\n",
       "      <td>129</td>\n",
       "      <td>1</td>\n",
       "      <td>1</td>\n",
       "      <td>7</td>\n",
       "      <td>1</td>\n",
       "    </tr>\n",
       "    <tr>\n",
       "      <th>3</th>\n",
       "      <td>50.0</td>\n",
       "      <td>1</td>\n",
       "      <td>111</td>\n",
       "      <td>0</td>\n",
       "      <td>20</td>\n",
       "      <td>0</td>\n",
       "      <td>210000.00</td>\n",
       "      <td>1.9</td>\n",
       "      <td>137</td>\n",
       "      <td>1</td>\n",
       "      <td>0</td>\n",
       "      <td>7</td>\n",
       "      <td>1</td>\n",
       "    </tr>\n",
       "    <tr>\n",
       "      <th>4</th>\n",
       "      <td>65.0</td>\n",
       "      <td>1</td>\n",
       "      <td>160</td>\n",
       "      <td>1</td>\n",
       "      <td>20</td>\n",
       "      <td>0</td>\n",
       "      <td>327000.00</td>\n",
       "      <td>2.7</td>\n",
       "      <td>116</td>\n",
       "      <td>0</td>\n",
       "      <td>0</td>\n",
       "      <td>8</td>\n",
       "      <td>1</td>\n",
       "    </tr>\n",
       "  </tbody>\n",
       "</table>\n",
       "</div>"
      ],
      "text/plain": [
       "    age  anaemia  creatinine_phosphokinase  diabetes  ejection_fraction  \\\n",
       "0  75.0        0                       582         0                 20   \n",
       "1  55.0        0                      7861         0                 38   \n",
       "2  65.0        0                       146         0                 20   \n",
       "3  50.0        1                       111         0                 20   \n",
       "4  65.0        1                       160         1                 20   \n",
       "\n",
       "   high_blood_pressure  platelets  serum_creatinine  serum_sodium  sex  \\\n",
       "0                    1  265000.00               1.9           130    1   \n",
       "1                    0  263358.03               1.1           136    1   \n",
       "2                    0  162000.00               1.3           129    1   \n",
       "3                    0  210000.00               1.9           137    1   \n",
       "4                    0  327000.00               2.7           116    0   \n",
       "\n",
       "   smoking  time  DEATH_EVENT  \n",
       "0        0     4            1  \n",
       "1        0     6            1  \n",
       "2        1     7            1  \n",
       "3        0     7            1  \n",
       "4        0     8            1  "
      ]
     },
     "execution_count": 3,
     "metadata": {},
     "output_type": "execute_result"
    }
   ],
   "source": [
    "df.head()"
   ]
  },
  {
   "cell_type": "markdown",
   "metadata": {},
   "source": [
    "## Formatting Dataset for Models"
   ]
  },
  {
   "cell_type": "code",
   "execution_count": 4,
   "metadata": {},
   "outputs": [],
   "source": [
    "target = df[\"DEATH_EVENT\"]\n",
    "target_names = [\"living\", \"deceased\"]"
   ]
  },
  {
   "cell_type": "code",
   "execution_count": 5,
   "metadata": {},
   "outputs": [],
   "source": [
    "data = df.drop(\"DEATH_EVENT\", axis=1)"
   ]
  },
  {
   "cell_type": "code",
   "execution_count": 6,
   "metadata": {},
   "outputs": [
    {
     "data": {
      "text/html": [
       "<div>\n",
       "<style scoped>\n",
       "    .dataframe tbody tr th:only-of-type {\n",
       "        vertical-align: middle;\n",
       "    }\n",
       "\n",
       "    .dataframe tbody tr th {\n",
       "        vertical-align: top;\n",
       "    }\n",
       "\n",
       "    .dataframe thead th {\n",
       "        text-align: right;\n",
       "    }\n",
       "</style>\n",
       "<table border=\"1\" class=\"dataframe\">\n",
       "  <thead>\n",
       "    <tr style=\"text-align: right;\">\n",
       "      <th></th>\n",
       "      <th>age</th>\n",
       "      <th>anaemia</th>\n",
       "      <th>creatinine_phosphokinase</th>\n",
       "      <th>diabetes</th>\n",
       "      <th>ejection_fraction</th>\n",
       "      <th>high_blood_pressure</th>\n",
       "      <th>platelets</th>\n",
       "      <th>serum_creatinine</th>\n",
       "      <th>serum_sodium</th>\n",
       "      <th>sex</th>\n",
       "      <th>smoking</th>\n",
       "      <th>time</th>\n",
       "    </tr>\n",
       "  </thead>\n",
       "  <tbody>\n",
       "    <tr>\n",
       "      <th>0</th>\n",
       "      <td>75.0</td>\n",
       "      <td>0</td>\n",
       "      <td>582</td>\n",
       "      <td>0</td>\n",
       "      <td>20</td>\n",
       "      <td>1</td>\n",
       "      <td>265000.00</td>\n",
       "      <td>1.9</td>\n",
       "      <td>130</td>\n",
       "      <td>1</td>\n",
       "      <td>0</td>\n",
       "      <td>4</td>\n",
       "    </tr>\n",
       "    <tr>\n",
       "      <th>1</th>\n",
       "      <td>55.0</td>\n",
       "      <td>0</td>\n",
       "      <td>7861</td>\n",
       "      <td>0</td>\n",
       "      <td>38</td>\n",
       "      <td>0</td>\n",
       "      <td>263358.03</td>\n",
       "      <td>1.1</td>\n",
       "      <td>136</td>\n",
       "      <td>1</td>\n",
       "      <td>0</td>\n",
       "      <td>6</td>\n",
       "    </tr>\n",
       "    <tr>\n",
       "      <th>2</th>\n",
       "      <td>65.0</td>\n",
       "      <td>0</td>\n",
       "      <td>146</td>\n",
       "      <td>0</td>\n",
       "      <td>20</td>\n",
       "      <td>0</td>\n",
       "      <td>162000.00</td>\n",
       "      <td>1.3</td>\n",
       "      <td>129</td>\n",
       "      <td>1</td>\n",
       "      <td>1</td>\n",
       "      <td>7</td>\n",
       "    </tr>\n",
       "    <tr>\n",
       "      <th>3</th>\n",
       "      <td>50.0</td>\n",
       "      <td>1</td>\n",
       "      <td>111</td>\n",
       "      <td>0</td>\n",
       "      <td>20</td>\n",
       "      <td>0</td>\n",
       "      <td>210000.00</td>\n",
       "      <td>1.9</td>\n",
       "      <td>137</td>\n",
       "      <td>1</td>\n",
       "      <td>0</td>\n",
       "      <td>7</td>\n",
       "    </tr>\n",
       "    <tr>\n",
       "      <th>4</th>\n",
       "      <td>65.0</td>\n",
       "      <td>1</td>\n",
       "      <td>160</td>\n",
       "      <td>1</td>\n",
       "      <td>20</td>\n",
       "      <td>0</td>\n",
       "      <td>327000.00</td>\n",
       "      <td>2.7</td>\n",
       "      <td>116</td>\n",
       "      <td>0</td>\n",
       "      <td>0</td>\n",
       "      <td>8</td>\n",
       "    </tr>\n",
       "  </tbody>\n",
       "</table>\n",
       "</div>"
      ],
      "text/plain": [
       "    age  anaemia  creatinine_phosphokinase  diabetes  ejection_fraction  \\\n",
       "0  75.0        0                       582         0                 20   \n",
       "1  55.0        0                      7861         0                 38   \n",
       "2  65.0        0                       146         0                 20   \n",
       "3  50.0        1                       111         0                 20   \n",
       "4  65.0        1                       160         1                 20   \n",
       "\n",
       "   high_blood_pressure  platelets  serum_creatinine  serum_sodium  sex  \\\n",
       "0                    1  265000.00               1.9           130    1   \n",
       "1                    0  263358.03               1.1           136    1   \n",
       "2                    0  162000.00               1.3           129    1   \n",
       "3                    0  210000.00               1.9           137    1   \n",
       "4                    0  327000.00               2.7           116    0   \n",
       "\n",
       "   smoking  time  \n",
       "0        0     4  \n",
       "1        0     6  \n",
       "2        1     7  \n",
       "3        0     7  \n",
       "4        0     8  "
      ]
     },
     "execution_count": 6,
     "metadata": {},
     "output_type": "execute_result"
    }
   ],
   "source": [
    "feature_names = data.columns\n",
    "data.head()"
   ]
  },
  {
   "cell_type": "code",
   "execution_count": 7,
   "metadata": {},
   "outputs": [],
   "source": [
    "X_train, X_test, y_train, y_test = train_test_split(data, target, random_state=3)"
   ]
  },
  {
   "cell_type": "markdown",
   "metadata": {},
   "source": [
    "## Decision Tree Classifier"
   ]
  },
  {
   "cell_type": "code",
   "execution_count": 8,
   "metadata": {},
   "outputs": [
    {
     "data": {
      "text/plain": [
       "0.68"
      ]
     },
     "execution_count": 8,
     "metadata": {},
     "output_type": "execute_result"
    }
   ],
   "source": [
    "dtclf = tree.DecisionTreeClassifier()\n",
    "dtclf = dtclf.fit(X_train, y_train)\n",
    "dtclf.score(X_test, y_test)"
   ]
  },
  {
   "cell_type": "code",
   "execution_count": 9,
   "metadata": {},
   "outputs": [
    {
     "data": {
      "text/plain": [
       "[(0.5106593017944883, 'time'),\n",
       " (0.12900232477838489, 'serum_creatinine'),\n",
       " (0.10739820184724909, 'serum_sodium'),\n",
       " (0.09414893056729408, 'ejection_fraction'),\n",
       " (0.056706250575347505, 'diabetes'),\n",
       " (0.04461667957747696, 'creatinine_phosphokinase'),\n",
       " (0.033411113645975425, 'age'),\n",
       " (0.024057197213783788, 'platelets'),\n",
       " (0.0, 'smoking'),\n",
       " (0.0, 'sex'),\n",
       " (0.0, 'high_blood_pressure'),\n",
       " (0.0, 'anaemia')]"
      ]
     },
     "execution_count": 9,
     "metadata": {},
     "output_type": "execute_result"
    }
   ],
   "source": [
    "sorted(zip(dtclf.feature_importances_, feature_names), reverse=True)"
   ]
  },
  {
   "cell_type": "code",
   "execution_count": 10,
   "metadata": {},
   "outputs": [],
   "source": [
    "# tree.plot_tree(dtclf)"
   ]
  },
  {
   "cell_type": "markdown",
   "metadata": {},
   "source": [
    "## Random Forest Classifier"
   ]
  },
  {
   "cell_type": "code",
   "execution_count": 20,
   "metadata": {},
   "outputs": [
    {
     "name": "stdout",
     "output_type": "stream",
     "text": [
      "Number of Estimators: 1\n",
      "Number of Estimators: 2\n",
      "Number of Estimators: 3\n",
      "Number of Estimators: 4\n",
      "Number of Estimators: 5\n",
      "Number of Estimators: 6\n",
      "Number of Estimators: 7\n",
      "Number of Estimators: 8\n",
      "Number of Estimators: 9\n",
      "Number of Estimators: 10\n",
      "Number of Estimators: 11\n",
      "Number of Estimators: 12\n",
      "Number of Estimators: 13\n",
      "Number of Estimators: 14\n",
      "Number of Estimators: 15\n",
      "Number of Estimators: 16\n",
      "Number of Estimators: 17\n",
      "Number of Estimators: 18\n",
      "Number of Estimators: 19\n",
      "Number of Estimators: 20\n",
      "Number of Estimators: 21\n",
      "Number of Estimators: 22\n",
      "Number of Estimators: 23\n",
      "Number of Estimators: 24\n",
      "Number of Estimators: 25\n",
      "Number of Estimators: 26\n",
      "Number of Estimators: 27\n",
      "Number of Estimators: 28\n",
      "Number of Estimators: 29\n",
      "Number of Estimators: 30\n",
      "Number of Estimators: 31\n",
      "Number of Estimators: 32\n",
      "Number of Estimators: 33\n",
      "Number of Estimators: 34\n",
      "Number of Estimators: 35\n",
      "Number of Estimators: 36\n",
      "Number of Estimators: 37\n",
      "Number of Estimators: 38\n",
      "Number of Estimators: 39\n",
      "Number of Estimators: 40\n",
      "Number of Estimators: 41\n",
      "Number of Estimators: 42\n",
      "Number of Estimators: 43\n",
      "Number of Estimators: 44\n",
      "Number of Estimators: 45\n",
      "Number of Estimators: 46\n",
      "Number of Estimators: 47\n",
      "Number of Estimators: 48\n",
      "Number of Estimators: 49\n",
      "Number of Estimators: 50\n",
      "Number of Estimators: 51\n",
      "Number of Estimators: 52\n",
      "Number of Estimators: 53\n",
      "Number of Estimators: 54\n",
      "Number of Estimators: 55\n",
      "Number of Estimators: 56\n",
      "Number of Estimators: 57\n",
      "Number of Estimators: 58\n",
      "Number of Estimators: 59\n",
      "Number of Estimators: 60\n",
      "Number of Estimators: 61\n",
      "Number of Estimators: 62\n",
      "Number of Estimators: 63\n",
      "Number of Estimators: 64\n",
      "Number of Estimators: 65\n",
      "Number of Estimators: 66\n",
      "Number of Estimators: 67\n",
      "Number of Estimators: 68\n",
      "Number of Estimators: 69\n",
      "Number of Estimators: 70\n",
      "Number of Estimators: 71\n",
      "Number of Estimators: 72\n",
      "Number of Estimators: 73\n",
      "Number of Estimators: 74\n",
      "Number of Estimators: 75\n",
      "Number of Estimators: 76\n",
      "Number of Estimators: 77\n",
      "Number of Estimators: 78\n",
      "Number of Estimators: 79\n",
      "Number of Estimators: 80\n",
      "Number of Estimators: 81\n",
      "Number of Estimators: 82\n",
      "Number of Estimators: 83\n",
      "Number of Estimators: 84\n",
      "Number of Estimators: 85\n",
      "Number of Estimators: 86\n",
      "Number of Estimators: 87\n",
      "Number of Estimators: 88\n",
      "Number of Estimators: 89\n",
      "Number of Estimators: 90\n",
      "Number of Estimators: 91\n",
      "Number of Estimators: 92\n",
      "Number of Estimators: 93\n",
      "Number of Estimators: 94\n",
      "Number of Estimators: 95\n",
      "Number of Estimators: 96\n",
      "Number of Estimators: 97\n",
      "Number of Estimators: 98\n",
      "Number of Estimators: 99\n",
      "Number of Estimators: 100\n",
      "Number of Estimators: 101\n",
      "Number of Estimators: 102\n",
      "Number of Estimators: 103\n",
      "Number of Estimators: 104\n",
      "Number of Estimators: 105\n",
      "Number of Estimators: 106\n",
      "Number of Estimators: 107\n",
      "Number of Estimators: 108\n",
      "Number of Estimators: 109\n",
      "Number of Estimators: 110\n",
      "Number of Estimators: 111\n",
      "Number of Estimators: 112\n",
      "Number of Estimators: 113\n",
      "Number of Estimators: 114\n",
      "Number of Estimators: 115\n",
      "Number of Estimators: 116\n",
      "Number of Estimators: 117\n",
      "Number of Estimators: 118\n",
      "Number of Estimators: 119\n",
      "Number of Estimators: 120\n",
      "Number of Estimators: 121\n",
      "Number of Estimators: 122\n",
      "Number of Estimators: 123\n",
      "Number of Estimators: 124\n",
      "Number of Estimators: 125\n",
      "Number of Estimators: 126\n",
      "Number of Estimators: 127\n",
      "Number of Estimators: 128\n",
      "Number of Estimators: 129\n",
      "Number of Estimators: 130\n",
      "Number of Estimators: 131\n",
      "Number of Estimators: 132\n",
      "Number of Estimators: 133\n",
      "Number of Estimators: 134\n",
      "Number of Estimators: 135\n",
      "Number of Estimators: 136\n",
      "Number of Estimators: 137\n",
      "Number of Estimators: 138\n",
      "Number of Estimators: 139\n",
      "Number of Estimators: 140\n",
      "Number of Estimators: 141\n",
      "Number of Estimators: 142\n",
      "Number of Estimators: 143\n",
      "Number of Estimators: 144\n",
      "Number of Estimators: 145\n",
      "Number of Estimators: 146\n",
      "Number of Estimators: 147\n",
      "Number of Estimators: 148\n",
      "Number of Estimators: 149\n",
      "Number of Estimators: 150\n"
     ]
    },
    {
     "data": {
      "text/plain": [
       "[<matplotlib.lines.Line2D at 0x1ff063e82b0>]"
      ]
     },
     "execution_count": 20,
     "metadata": {},
     "output_type": "execute_result"
    },
    {
     "data": {
      "image/png": "[encoded data removed]",
      "text/plain": [
       "<Figure size 432x288 with 1 Axes>"
      ]
     },
     "metadata": {
      "needs_background": "light"
     },
     "output_type": "display_data"
    }
   ],
   "source": [
    "train = []\n",
    "test = []\n",
    "for x in range(150):\n",
    "    RF_classifier = RandomForestClassifier(n_estimators=x+1)\n",
    "    RF_classifier.fit(X_train, y_train)\n",
    "    train.append(RF_classifier.score(X_train, y_train))\n",
    "    test.append(RF_classifier.score(X_test, y_test))\n",
    "    print(f\"Number of Estimators: {x+1}\")\n",
    "plt.plot(test)"
   ]
  },
  {
   "cell_type": "markdown",
   "metadata": {},
   "source": [
    "#### Sensitivity Study\n",
    "Iterated over 0 to 300 estimators to find the what would yield the best model. It appears to reach a limit around 50 estimators, but we chose to go after the spike at 88 estimators for our model using all features. "
   ]
  },
  {
   "cell_type": "code",
   "execution_count": 12,
   "metadata": {},
   "outputs": [
    {
     "data": {
      "text/plain": [
       "0.8133333333333334"
      ]
     },
     "execution_count": 12,
     "metadata": {},
     "output_type": "execute_result"
    }
   ],
   "source": [
    "rf = RandomForestClassifier(n_estimators=88)\n",
    "rf = rf.fit(X_train, y_train)\n",
    "rf.score(X_test, y_test)"
   ]
  },
  {
   "cell_type": "code",
   "execution_count": 13,
   "metadata": {},
   "outputs": [
    {
     "data": {
      "text/plain": [
       "[(0.3477721185967737, 'time'),\n",
       " (0.13637621497661395, 'serum_creatinine'),\n",
       " (0.11868009637117076, 'ejection_fraction'),\n",
       " (0.1012089314359698, 'age'),\n",
       " (0.08806518673561976, 'serum_sodium'),\n",
       " (0.07624206065528356, 'creatinine_phosphokinase'),\n",
       " (0.07195168060687615, 'platelets'),\n",
       " (0.013806841888913056, 'anaemia'),\n",
       " (0.013595810614731285, 'smoking'),\n",
       " (0.01210097146020404, 'high_blood_pressure'),\n",
       " (0.01075418437734932, 'diabetes'),\n",
       " (0.00944590228049471, 'sex')]"
      ]
     },
     "execution_count": 13,
     "metadata": {},
     "output_type": "execute_result"
    }
   ],
   "source": [
    "sorted(zip(rf.feature_importances_, feature_names), reverse=True)"
   ]
  },
  {
   "cell_type": "code",
   "execution_count": 18,
   "metadata": {},
   "outputs": [
    {
     "name": "stdout",
     "output_type": "stream",
     "text": [
      "              precision    recall  f1-score   support\n",
      "\n",
      "      living       0.81      0.89      0.85        53\n",
      "    deceased       0.65      0.50      0.56        22\n",
      "\n",
      "    accuracy                           0.77        75\n",
      "   macro avg       0.73      0.69      0.71        75\n",
      "weighted avg       0.76      0.77      0.76        75\n",
      "\n"
     ]
    }
   ],
   "source": [
    "predictions = rf.predict(X_test)\n",
    "print(classification_report(y_test, predictions, target_names=target_names))"
   ]
  },
  {
   "cell_type": "markdown",
   "metadata": {},
   "source": [
    "#### Using only patient-known factors"
   ]
  },
  {
   "cell_type": "code",
   "execution_count": 24,
   "metadata": {},
   "outputs": [
    {
     "data": {
      "text/html": [
       "<div>\n",
       "<style scoped>\n",
       "    .dataframe tbody tr th:only-of-type {\n",
       "        vertical-align: middle;\n",
       "    }\n",
       "\n",
       "    .dataframe tbody tr th {\n",
       "        vertical-align: top;\n",
       "    }\n",
       "\n",
       "    .dataframe thead th {\n",
       "        text-align: right;\n",
       "    }\n",
       "</style>\n",
       "<table border=\"1\" class=\"dataframe\">\n",
       "  <thead>\n",
       "    <tr style=\"text-align: right;\">\n",
       "      <th></th>\n",
       "      <th>age</th>\n",
       "      <th>anaemia</th>\n",
       "      <th>diabetes</th>\n",
       "      <th>high_blood_pressure</th>\n",
       "      <th>sex</th>\n",
       "      <th>smoking</th>\n",
       "    </tr>\n",
       "  </thead>\n",
       "  <tbody>\n",
       "    <tr>\n",
       "      <th>0</th>\n",
       "      <td>75.0</td>\n",
       "      <td>0</td>\n",
       "      <td>0</td>\n",
       "      <td>1</td>\n",
       "      <td>1</td>\n",
       "      <td>0</td>\n",
       "    </tr>\n",
       "    <tr>\n",
       "      <th>1</th>\n",
       "      <td>55.0</td>\n",
       "      <td>0</td>\n",
       "      <td>0</td>\n",
       "      <td>0</td>\n",
       "      <td>1</td>\n",
       "      <td>0</td>\n",
       "    </tr>\n",
       "    <tr>\n",
       "      <th>2</th>\n",
       "      <td>65.0</td>\n",
       "      <td>0</td>\n",
       "      <td>0</td>\n",
       "      <td>0</td>\n",
       "      <td>1</td>\n",
       "      <td>1</td>\n",
       "    </tr>\n",
       "    <tr>\n",
       "      <th>3</th>\n",
       "      <td>50.0</td>\n",
       "      <td>1</td>\n",
       "      <td>0</td>\n",
       "      <td>0</td>\n",
       "      <td>1</td>\n",
       "      <td>0</td>\n",
       "    </tr>\n",
       "    <tr>\n",
       "      <th>4</th>\n",
       "      <td>65.0</td>\n",
       "      <td>1</td>\n",
       "      <td>1</td>\n",
       "      <td>0</td>\n",
       "      <td>0</td>\n",
       "      <td>0</td>\n",
       "    </tr>\n",
       "  </tbody>\n",
       "</table>\n",
       "</div>"
      ],
      "text/plain": [
       "    age  anaemia  diabetes  high_blood_pressure  sex  smoking\n",
       "0  75.0        0         0                    1    1        0\n",
       "1  55.0        0         0                    0    1        0\n",
       "2  65.0        0         0                    0    1        1\n",
       "3  50.0        1         0                    0    1        0\n",
       "4  65.0        1         1                    0    0        0"
      ]
     },
     "execution_count": 24,
     "metadata": {},
     "output_type": "execute_result"
    }
   ],
   "source": [
    "patient_known_data = df.drop([\"time\",\"creatinine_phosphokinase\", \"ejection_fraction\", \"platelets\", \"serum_creatinine\", \"serum_sodium\", \"DEATH_EVENT\"], axis=1)\n",
    "feature_names = patient_known_data.columns\n",
    "patient_known_data.head()"
   ]
  },
  {
   "cell_type": "code",
   "execution_count": 25,
   "metadata": {},
   "outputs": [],
   "source": [
    "X_train, X_test, y_train, y_test = train_test_split(patient_known_data, target, random_state=5)"
   ]
  },
  {
   "cell_type": "code",
   "execution_count": 26,
   "metadata": {},
   "outputs": [
    {
     "data": {
      "text/plain": [
       "0.64"
      ]
     },
     "execution_count": 26,
     "metadata": {},
     "output_type": "execute_result"
    }
   ],
   "source": [
    "rf = RandomForestClassifier(n_estimators=88)\n",
    "rf = rf.fit(X_train, y_train)\n",
    "rf.score(X_test, y_test)"
   ]
  },
  {
   "cell_type": "code",
   "execution_count": 27,
   "metadata": {},
   "outputs": [
    {
     "data": {
      "text/plain": [
       "[(0.7189307921868706, 'age'),\n",
       " (0.06274910381243914, 'smoking'),\n",
       " (0.059216740418471484, 'diabetes'),\n",
       " (0.05820924199882521, 'high_blood_pressure'),\n",
       " (0.05111339121413866, 'sex'),\n",
       " (0.049780730369255066, 'anaemia')]"
      ]
     },
     "execution_count": 27,
     "metadata": {},
     "output_type": "execute_result"
    }
   ],
   "source": [
    "sorted(zip(rf.feature_importances_, feature_names), reverse=True)"
   ]
  },
  {
   "cell_type": "code",
   "execution_count": 28,
   "metadata": {},
   "outputs": [
    {
     "name": "stdout",
     "output_type": "stream",
     "text": [
      "              precision    recall  f1-score   support\n",
      "\n",
      "      living       0.74      0.75      0.75        53\n",
      "    deceased       0.38      0.36      0.37        22\n",
      "\n",
      "    accuracy                           0.64        75\n",
      "   macro avg       0.56      0.56      0.56        75\n",
      "weighted avg       0.64      0.64      0.64        75\n",
      "\n"
     ]
    }
   ],
   "source": [
    "predictions = rf.predict(X_test)\n",
    "print(classification_report(y_test, predictions, target_names=target_names))"
   ]
  },
  {
   "cell_type": "code",
   "execution_count": null,
   "metadata": {},
   "outputs": [],
   "source": []
  }
 ],
 "metadata": {
  "kernelspec": {
   "display_name": "Python 3",
   "language": "python",
   "name": "python3"
  },
  "language_info": {
   "codemirror_mode": {
    "name": "ipython",
    "version": 3
   },
   "file_extension": ".py",
   "mimetype": "text/x-python",
   "name": "python",
   "nbconvert_exporter": "python",
   "pygments_lexer": "ipython3",
   "version": "3.8.3"
  }
 },
 "nbformat": 4,
 "nbformat_minor": 4
}
